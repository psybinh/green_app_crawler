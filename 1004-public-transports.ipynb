{
 "cells": [
  {
   "cell_type": "code",
   "execution_count": 1,
   "metadata": {},
   "outputs": [],
   "source": [
    "from headers import HEADERS\n",
    "from green_app_lib import get_random_form, get_result, parse_content\n",
    "from forms import FORM\n",
    "import requests\n",
    "import time\n",
    "from multiprocessing import Pool, cpu_count"
   ]
  },
  {
   "cell_type": "markdown",
   "metadata": {},
   "source": [
    "# TransportViewModel.Intercity"
   ]
  },
  {
   "cell_type": "code",
   "execution_count": 2,
   "metadata": {},
   "outputs": [
    {
     "name": "stdout",
     "output_type": "stream",
     "text": [
      "(35, 0, 7, 'total_annual_dx = 0.269999999999996', 'country_average_dx = 0.0', 'world_average_dx = 0.0')\n",
      "(72, 3, 1, 'total_annual_dx = 0.2600000000000051', 'country_average_dx = 0.0', 'world_average_dx = 0.0')\n",
      "(45, 6, 2, 'total_annual_dx = 0.269999999999996', 'country_average_dx = 0.0', 'world_average_dx = 0.0')\n",
      "(80, 9, 4, 'total_annual_dx = 0.2599999999999909', 'country_average_dx = 0.0', 'world_average_dx = 0.0')\n",
      "(35, 12, 2, 'total_annual_dx = 0.269999999999996', 'country_average_dx = 0.0', 'world_average_dx = 0.0')\n",
      "(80, 15, 8, 'total_annual_dx = 0.2600000000000051', 'country_average_dx = 0.0', 'world_average_dx = 0.0')\n",
      "(45, 18, 2, 'total_annual_dx = 0.2700000000000031', 'country_average_dx = 0.0', 'world_average_dx = 0.0')\n",
      "(35, 21, 6, 'total_annual_dx = 0.2600000000000051', 'country_average_dx = 0.0', 'world_average_dx = 0.0')\n",
      "(45, 24, 1, 'total_annual_dx = 0.2600000000000051', 'country_average_dx = 0.0', 'world_average_dx = 0.0')\n",
      "(45, 27, 8, 'total_annual_dx = 0.269999999999996', 'country_average_dx = 0.0', 'world_average_dx = 0.0')\n",
      "(35, 30, 6, 'total_annual_dx = 0.2599999999999909', 'country_average_dx = 0.0', 'world_average_dx = 0.0')\n",
      "(45, 33, 3, 'total_annual_dx = 0.269999999999996', 'country_average_dx = 0.0', 'world_average_dx = 0.0')\n",
      "(72, 36, 5, 'total_annual_dx = 0.269999999999996', 'country_average_dx = 0.0', 'world_average_dx = 0.0')\n",
      "(80, 39, 6, 'total_annual_dx = 0.27000000000001023', 'country_average_dx = 0.0', 'world_average_dx = 0.0')\n",
      "(80, 42, 1, 'total_annual_dx = 0.2700000000000031', 'country_average_dx = 0.0', 'world_average_dx = 0.0')\n",
      "(72, 45, 3, 'total_annual_dx = 0.2600000000000051', 'country_average_dx = 0.0', 'world_average_dx = 0.0')\n",
      "(33, 48, 5, 'total_annual_dx = 0.269999999999996', 'country_average_dx = 0.0', 'world_average_dx = 0.0')\n",
      "(33, 51, 3, 'total_annual_dx = 0.2599999999999909', 'country_average_dx = 0.0', 'world_average_dx = 0.0')\n",
      "(33, 54, 2, 'total_annual_dx = 0.2599999999999909', 'country_average_dx = 0.0', 'world_average_dx = 0.0')\n",
      "(45, 57, 6, 'total_annual_dx = 0.2599999999999909', 'country_average_dx = 0.0', 'world_average_dx = 0.0')\n",
      "(80, 60, 2, 'total_annual_dx = 0.269999999999996', 'country_average_dx = 0.0', 'world_average_dx = 0.0')\n",
      "(72, 63, 8, 'total_annual_dx = 0.2599999999999909', 'country_average_dx = 0.0', 'world_average_dx = 0.0')\n",
      "(80, 66, 5, 'total_annual_dx = 0.2600000000000051', 'country_average_dx = 0.0', 'world_average_dx = 0.0')\n",
      "(45, 69, 4, 'total_annual_dx = 0.269999999999996', 'country_average_dx = 0.0', 'world_average_dx = 0.0')\n",
      "(80, 72, 5, 'total_annual_dx = 0.269999999999996', 'country_average_dx = 0.0', 'world_average_dx = 0.0')\n",
      "(45, 75, 7, 'total_annual_dx = 0.2600000000000051', 'country_average_dx = 0.0', 'world_average_dx = 0.0')\n",
      "(35, 78, 7, 'total_annual_dx = 0.2600000000000193', 'country_average_dx = 0.0', 'world_average_dx = 0.0')\n",
      "(45, 81, 2, 'total_annual_dx = 0.2600000000000051', 'country_average_dx = 0.0', 'world_average_dx = 0.0')\n",
      "(80, 84, 4, 'total_annual_dx = 0.2599999999999909', 'country_average_dx = 0.0', 'world_average_dx = 0.0')\n",
      "(35, 87, 3, 'total_annual_dx = 0.27000000000001023', 'country_average_dx = 0.0', 'world_average_dx = 0.0')\n",
      "(35, 90, 3, 'total_annual_dx = 0.269999999999996', 'country_average_dx = 0.0', 'world_average_dx = 0.0')\n",
      "(80, 93, 7, 'total_annual_dx = 0.2600000000000193', 'country_average_dx = 0.0', 'world_average_dx = 0.0')\n"
     ]
    }
   ],
   "source": [
    "def get_record(form_field):\n",
    "    form, field = form_field\n",
    "    \n",
    "    step = 1\n",
    "    form_x = form.copy()\n",
    "    form_x[field] = form[field] + step\n",
    "    \n",
    "    page1 = None\n",
    "    page2 = None\n",
    "    try:\n",
    "        page1 = get_result(form)\n",
    "        page2 = get_result(form_x)\n",
    "    except Exception as e:\n",
    "        print(e)\n",
    "    \n",
    "    result1 = None\n",
    "    result2 = None\n",
    "    if page1 != None:\n",
    "        if page1.ok:\n",
    "            result1 = parse_content(page1)\n",
    "    if page2 != None:\n",
    "        if page2.ok:\n",
    "            result2 = parse_content(page2)\n",
    "        \n",
    "    if result1 != None and result2 != None:\n",
    "        return (form['HouseholdViewModel.SelectedResidenceCountryId'],\n",
    "                form[field],\n",
    "                form[\"HouseholdViewModel.HouseholdSize\"],\n",
    "                'total_annual_dx = {}'.format(float(result2['total_annual']) - float(result1['total_annual'])),\n",
    "                'country_average_dx = {}'.format(float(result2['country_average']) - float(result1['country_average'])),\n",
    "                'world_average_dx = {}'.format(float(result2['world_average']) - float(result1['world_average'])))\n",
    "    return 0\n",
    "\n",
    "field = \"TransportViewModel.Intercity\"\n",
    "forms_field = []\n",
    "for i in range(0, 96, 3):\n",
    "    form = get_random_form(FORM)\n",
    "    form[field] = i\n",
    "    forms_field.append((form, field))\n",
    "\n",
    "rss = []\n",
    "with Pool(32) as pool:\n",
    "    rss = pool.map(get_record, forms_field)\n",
    "    pool.close()\n",
    "    pool.join()\n",
    "\n",
    "for record in rss:\n",
    "    print(record)"
   ]
  },
  {
   "cell_type": "markdown",
   "metadata": {},
   "source": [
    "# TransportViewModel.Subway"
   ]
  },
  {
   "cell_type": "code",
   "execution_count": 3,
   "metadata": {},
   "outputs": [
    {
     "name": "stdout",
     "output_type": "stream",
     "text": [
      "(72, 0, 8, 'total_annual_dx = 0.09999999999999432', 'country_average_dx = 0.0', 'world_average_dx = 0.0')\n",
      "(45, 3, 2, 'total_annual_dx = 0.10000000000000142', 'country_average_dx = 0.0', 'world_average_dx = 0.0')\n",
      "(33, 6, 7, 'total_annual_dx = 0.09999999999999432', 'country_average_dx = 0.0', 'world_average_dx = 0.0')\n",
      "(72, 9, 3, 'total_annual_dx = 0.10000000000000853', 'country_average_dx = 0.0', 'world_average_dx = 0.0')\n",
      "(33, 12, 6, 'total_annual_dx = 0.09999999999999432', 'country_average_dx = 0.0', 'world_average_dx = 0.0')\n",
      "(72, 15, 1, 'total_annual_dx = 0.10999999999999943', 'country_average_dx = 0.0', 'world_average_dx = 0.0')\n",
      "(80, 18, 1, 'total_annual_dx = 0.09999999999999432', 'country_average_dx = 0.0', 'world_average_dx = 0.0')\n",
      "(35, 21, 8, 'total_annual_dx = 0.09999999999999432', 'country_average_dx = 0.0', 'world_average_dx = 0.0')\n",
      "(80, 24, 8, 'total_annual_dx = 0.10999999999999943', 'country_average_dx = 0.0', 'world_average_dx = 0.0')\n",
      "(80, 27, 1, 'total_annual_dx = 0.10000000000000142', 'country_average_dx = 0.0', 'world_average_dx = 0.0')\n",
      "(72, 30, 4, 'total_annual_dx = 0.09999999999999432', 'country_average_dx = 0.0', 'world_average_dx = 0.0')\n",
      "(35, 33, 2, 'total_annual_dx = 0.10000000000000142', 'country_average_dx = 0.0', 'world_average_dx = 0.0')\n",
      "(35, 36, 3, 'total_annual_dx = 0.10000000000000853', 'country_average_dx = 0.0', 'world_average_dx = 0.0')\n",
      "(33, 39, 8, 'total_annual_dx = 0.09999999999999432', 'country_average_dx = 0.0', 'world_average_dx = 0.0')\n",
      "(33, 42, 6, 'total_annual_dx = 0.10000000000000853', 'country_average_dx = 0.0', 'world_average_dx = 0.0')\n",
      "(72, 45, 7, 'total_annual_dx = 0.09999999999999432', 'country_average_dx = 0.0', 'world_average_dx = 0.0')\n",
      "(35, 48, 7, 'total_annual_dx = 0.09999999999999432', 'country_average_dx = 0.0', 'world_average_dx = 0.0')\n",
      "(33, 51, 6, 'total_annual_dx = 0.09999999999999432', 'country_average_dx = 0.0', 'world_average_dx = 0.0')\n",
      "(45, 54, 2, 'total_annual_dx = 0.10000000000000142', 'country_average_dx = 0.0', 'world_average_dx = 0.0')\n",
      "(45, 57, 5, 'total_annual_dx = 0.10000000000002274', 'country_average_dx = 0.0', 'world_average_dx = 0.0')\n",
      "(45, 60, 2, 'total_annual_dx = 0.10000000000000142', 'country_average_dx = 0.0', 'world_average_dx = 0.0')\n",
      "(35, 63, 2, 'total_annual_dx = 0.10000000000000853', 'country_average_dx = 0.0', 'world_average_dx = 0.0')\n",
      "(72, 66, 2, 'total_annual_dx = 0.10999999999999943', 'country_average_dx = 0.0', 'world_average_dx = 0.0')\n",
      "(80, 69, 8, 'total_annual_dx = 0.09999999999999432', 'country_average_dx = 0.0', 'world_average_dx = 0.0')\n",
      "(45, 72, 1, 'total_annual_dx = 0.10000000000000142', 'country_average_dx = 0.0', 'world_average_dx = 0.0')\n",
      "(45, 75, 4, 'total_annual_dx = 0.09999999999999432', 'country_average_dx = 0.0', 'world_average_dx = 0.0')\n",
      "(35, 78, 2, 'total_annual_dx = 0.09999999999999432', 'country_average_dx = 0.0', 'world_average_dx = 0.0')\n",
      "(72, 81, 7, 'total_annual_dx = 0.09999999999999432', 'country_average_dx = 0.0', 'world_average_dx = 0.0')\n",
      "(33, 84, 4, 'total_annual_dx = 0.09999999999999432', 'country_average_dx = 0.0', 'world_average_dx = 0.0')\n",
      "(33, 87, 4, 'total_annual_dx = 0.09999999999999432', 'country_average_dx = 0.0', 'world_average_dx = 0.0')\n",
      "(33, 90, 4, 'total_annual_dx = 0.10000000000000142', 'country_average_dx = 0.0', 'world_average_dx = 0.0')\n",
      "(33, 93, 1, 'total_annual_dx = 0.09999999999999432', 'country_average_dx = 0.0', 'world_average_dx = 0.0')\n"
     ]
    }
   ],
   "source": [
    "field = \"TransportViewModel.Subway\"\n",
    "forms_field = []\n",
    "for i in range(0, 96, 3):\n",
    "    form = get_random_form(FORM)\n",
    "    form[field] = i\n",
    "    forms_field.append((form, field))\n",
    "\n",
    "rss = []\n",
    "with Pool(32) as pool:\n",
    "    rss = pool.map(get_record, forms_field)\n",
    "    pool.close()\n",
    "    pool.join()\n",
    "\n",
    "for record in rss:\n",
    "    print(record)"
   ]
  },
  {
   "cell_type": "markdown",
   "metadata": {},
   "source": [
    "# TransportViewModel.Bus"
   ]
  },
  {
   "cell_type": "code",
   "execution_count": 4,
   "metadata": {},
   "outputs": [
    {
     "name": "stdout",
     "output_type": "stream",
     "text": [
      "(72, 0, 7, 'total_annual_dx = 0.18999999999999773', 'country_average_dx = 0.0', 'world_average_dx = 0.0')\n",
      "(72, 3, 5, 'total_annual_dx = 0.20000000000000284', 'country_average_dx = 0.0', 'world_average_dx = 0.0')\n",
      "(72, 6, 7, 'total_annual_dx = 0.20000000000000284', 'country_average_dx = 0.0', 'world_average_dx = 0.0')\n",
      "(72, 9, 4, 'total_annual_dx = 0.19000000000000483', 'country_average_dx = 0.0', 'world_average_dx = 0.0')\n",
      "(72, 12, 2, 'total_annual_dx = 0.19000000000001194', 'country_average_dx = 0.0', 'world_average_dx = 0.0')\n",
      "(35, 15, 1, 'total_annual_dx = 0.18999999999999773', 'country_average_dx = 0.0', 'world_average_dx = 0.0')\n",
      "(72, 18, 6, 'total_annual_dx = 0.20000000000001705', 'country_average_dx = 0.0', 'world_average_dx = 0.0')\n",
      "(35, 21, 7, 'total_annual_dx = 0.20000000000000284', 'country_average_dx = 0.0', 'world_average_dx = 0.0')\n",
      "(35, 24, 1, 'total_annual_dx = 0.18999999999999773', 'country_average_dx = 0.0', 'world_average_dx = 0.0')\n",
      "(33, 27, 1, 'total_annual_dx = 0.18999999999999773', 'country_average_dx = 0.0', 'world_average_dx = 0.0')\n",
      "(80, 30, 4, 'total_annual_dx = 0.20000000000000284', 'country_average_dx = 0.0', 'world_average_dx = 0.0')\n",
      "(80, 33, 3, 'total_annual_dx = 0.18999999999999773', 'country_average_dx = 0.0', 'world_average_dx = 0.0')\n",
      "(72, 36, 7, 'total_annual_dx = 0.20000000000000284', 'country_average_dx = 0.0', 'world_average_dx = 0.0')\n",
      "(72, 39, 2, 'total_annual_dx = 0.19999999999998863', 'country_average_dx = 0.0', 'world_average_dx = 0.0')\n",
      "(33, 42, 6, 'total_annual_dx = 0.18999999999999773', 'country_average_dx = 0.0', 'world_average_dx = 0.0')\n",
      "(35, 45, 8, 'total_annual_dx = 0.18999999999999773', 'country_average_dx = 0.0', 'world_average_dx = 0.0')\n",
      "(33, 48, 2, 'total_annual_dx = 0.19999999999998863', 'country_average_dx = 0.0', 'world_average_dx = 0.0')\n",
      "(72, 51, 8, 'total_annual_dx = 0.20000000000000284', 'country_average_dx = 0.0', 'world_average_dx = 0.0')\n",
      "(35, 54, 7, 'total_annual_dx = 0.20000000000000284', 'country_average_dx = 0.0', 'world_average_dx = 0.0')\n",
      "(35, 57, 8, 'total_annual_dx = 0.20000000000000284', 'country_average_dx = 0.0', 'world_average_dx = 0.0')\n",
      "(45, 60, 6, 'total_annual_dx = 0.20000000000000284', 'country_average_dx = 0.0', 'world_average_dx = 0.0')\n",
      "(72, 63, 8, 'total_annual_dx = 0.20000000000001705', 'country_average_dx = 0.0', 'world_average_dx = 0.0')\n",
      "(72, 66, 6, 'total_annual_dx = 0.18999999999999773', 'country_average_dx = 0.0', 'world_average_dx = 0.0')\n",
      "(33, 69, 7, 'total_annual_dx = 0.18999999999999773', 'country_average_dx = 0.0', 'world_average_dx = 0.0')\n",
      "(45, 72, 5, 'total_annual_dx = 0.19000000000001194', 'country_average_dx = 0.0', 'world_average_dx = 0.0')\n",
      "(35, 75, 2, 'total_annual_dx = 0.19999999999998863', 'country_average_dx = 0.0', 'world_average_dx = 0.0')\n",
      "(33, 78, 6, 'total_annual_dx = 0.20000000000001705', 'country_average_dx = 0.0', 'world_average_dx = 0.0')\n",
      "(45, 81, 5, 'total_annual_dx = 0.20000000000000284', 'country_average_dx = 0.0', 'world_average_dx = 0.0')\n",
      "(33, 84, 6, 'total_annual_dx = 0.20000000000001705', 'country_average_dx = 0.0', 'world_average_dx = 0.0')\n",
      "(80, 87, 1, 'total_annual_dx = 0.20000000000000284', 'country_average_dx = 0.0', 'world_average_dx = 0.0')\n",
      "(72, 90, 3, 'total_annual_dx = 0.19999999999998863', 'country_average_dx = 0.0', 'world_average_dx = 0.0')\n",
      "(72, 93, 5, 'total_annual_dx = 0.18999999999999773', 'country_average_dx = 0.0', 'world_average_dx = 0.0')\n"
     ]
    }
   ],
   "source": [
    "field = \"TransportViewModel.Bus\"\n",
    "forms_field = []\n",
    "for i in range(0, 96, 3):\n",
    "    form = get_random_form(FORM)\n",
    "    form[field] = i\n",
    "    forms_field.append((form, field))\n",
    "\n",
    "rss = []\n",
    "with Pool(32) as pool:\n",
    "    rss = pool.map(get_record, forms_field)\n",
    "    pool.close()\n",
    "    pool.join()\n",
    "\n",
    "for record in rss:\n",
    "    print(record)"
   ]
  },
  {
   "cell_type": "markdown",
   "metadata": {},
   "source": [
    "# TransportViewModel.CityBus"
   ]
  },
  {
   "cell_type": "code",
   "execution_count": 5,
   "metadata": {},
   "outputs": [
    {
     "name": "stdout",
     "output_type": "stream",
     "text": [
      "(35, 0, 8, 'total_annual_dx = 0.07000000000000739', 'country_average_dx = 0.0', 'world_average_dx = 0.0')\n",
      "(72, 3, 2, 'total_annual_dx = 0.07000000000000739', 'country_average_dx = 0.0', 'world_average_dx = 0.0')\n",
      "(35, 6, 2, 'total_annual_dx = 0.0800000000000125', 'country_average_dx = 0.0', 'world_average_dx = 0.0')\n",
      "(45, 9, 8, 'total_annual_dx = 0.07000000000000739', 'country_average_dx = 0.0', 'world_average_dx = 0.0')\n",
      "(80, 12, 2, 'total_annual_dx = 0.07000000000000028', 'country_average_dx = 0.0', 'world_average_dx = 0.0')\n",
      "(33, 15, 4, 'total_annual_dx = 0.07000000000000739', 'country_average_dx = 0.0', 'world_average_dx = 0.0')\n",
      "(33, 18, 7, 'total_annual_dx = 0.07000000000000028', 'country_average_dx = 0.0', 'world_average_dx = 0.0')\n",
      "(33, 21, 7, 'total_annual_dx = 0.06999999999999318', 'country_average_dx = 0.0', 'world_average_dx = 0.0')\n",
      "(80, 24, 4, 'total_annual_dx = 0.07000000000000739', 'country_average_dx = 0.0', 'world_average_dx = 0.0')\n",
      "(33, 27, 1, 'total_annual_dx = 0.06999999999999318', 'country_average_dx = 0.0', 'world_average_dx = 0.0')\n",
      "(72, 30, 4, 'total_annual_dx = 0.06999999999999318', 'country_average_dx = 0.0', 'world_average_dx = 0.0')\n",
      "(35, 33, 7, 'total_annual_dx = 0.06999999999999318', 'country_average_dx = 0.0', 'world_average_dx = 0.0')\n",
      "(80, 36, 3, 'total_annual_dx = 0.06999999999999318', 'country_average_dx = 0.0', 'world_average_dx = 0.0')\n",
      "(45, 39, 7, 'total_annual_dx = 0.07000000000000739', 'country_average_dx = 0.0', 'world_average_dx = 0.0')\n",
      "(72, 42, 4, 'total_annual_dx = 0.06999999999999318', 'country_average_dx = 0.0', 'world_average_dx = 0.0')\n",
      "(80, 45, 8, 'total_annual_dx = 0.06999999999999318', 'country_average_dx = 0.0', 'world_average_dx = 0.0')\n",
      "(45, 48, 8, 'total_annual_dx = 0.07000000000000739', 'country_average_dx = 0.0', 'world_average_dx = 0.0')\n",
      "(72, 51, 7, 'total_annual_dx = 0.06999999999999318', 'country_average_dx = 0.0', 'world_average_dx = 0.0')\n",
      "(33, 54, 2, 'total_annual_dx = 0.06999999999999318', 'country_average_dx = 0.0', 'world_average_dx = 0.0')\n",
      "(35, 57, 7, 'total_annual_dx = 0.06999999999999318', 'country_average_dx = 0.0', 'world_average_dx = 0.0')\n",
      "(80, 60, 2, 'total_annual_dx = 0.06999999999999318', 'country_average_dx = 0.0', 'world_average_dx = 0.0')\n",
      "(72, 63, 2, 'total_annual_dx = 0.06999999999999318', 'country_average_dx = 0.0', 'world_average_dx = 0.0')\n",
      "(80, 66, 4, 'total_annual_dx = 0.07000000000000739', 'country_average_dx = 0.0', 'world_average_dx = 0.0')\n",
      "(80, 69, 3, 'total_annual_dx = 0.07000000000000739', 'country_average_dx = 0.0', 'world_average_dx = 0.0')\n",
      "(33, 72, 2, 'total_annual_dx = 0.06999999999999318', 'country_average_dx = 0.0', 'world_average_dx = 0.0')\n",
      "(45, 75, 1, 'total_annual_dx = 0.07000000000000739', 'country_average_dx = 0.0', 'world_average_dx = 0.0')\n",
      "(35, 78, 5, 'total_annual_dx = 0.06999999999999318', 'country_average_dx = 0.0', 'world_average_dx = 0.0')\n",
      "(45, 81, 3, 'total_annual_dx = 0.06999999999999318', 'country_average_dx = 0.0', 'world_average_dx = 0.0')\n",
      "(45, 84, 2, 'total_annual_dx = 0.0800000000000054', 'country_average_dx = 0.0', 'world_average_dx = 0.0')\n",
      "(35, 87, 4, 'total_annual_dx = 0.07000000000000739', 'country_average_dx = 0.0', 'world_average_dx = 0.0')\n",
      "(80, 90, 1, 'total_annual_dx = 0.06999999999999318', 'country_average_dx = 0.0', 'world_average_dx = 0.0')\n",
      "(33, 93, 2, 'total_annual_dx = 0.0800000000000125', 'country_average_dx = 0.0', 'world_average_dx = 0.0')\n"
     ]
    }
   ],
   "source": [
    "field = \"TransportViewModel.CityBus\"\n",
    "forms_field = []\n",
    "for i in range(0, 96, 3):\n",
    "    form = get_random_form(FORM)\n",
    "    form[field] = i\n",
    "    forms_field.append((form, field))\n",
    "\n",
    "rss = []\n",
    "with Pool(32) as pool:\n",
    "    rss = pool.map(get_record, forms_field)\n",
    "    pool.close()\n",
    "    pool.join()\n",
    "\n",
    "for record in rss:\n",
    "    print(record)"
   ]
  },
  {
   "cell_type": "markdown",
   "metadata": {},
   "source": [
    "# TransportViewModel.Tram"
   ]
  },
  {
   "cell_type": "code",
   "execution_count": 6,
   "metadata": {},
   "outputs": [
    {
     "name": "stdout",
     "output_type": "stream",
     "text": [
      "(35, 0, 2, 'total_annual_dx = 0.04999999999999716', 'country_average_dx = 0.0', 'world_average_dx = 0.0')\n",
      "(80, 3, 5, 'total_annual_dx = 0.060000000000002274', 'country_average_dx = 0.0', 'world_average_dx = 0.0')\n",
      "(35, 6, 2, 'total_annual_dx = 0.04999999999999716', 'country_average_dx = 0.0', 'world_average_dx = 0.0')\n",
      "(72, 9, 3, 'total_annual_dx = 0.060000000000002274', 'country_average_dx = 0.0', 'world_average_dx = 0.0')\n",
      "(72, 12, 7, 'total_annual_dx = 0.060000000000002274', 'country_average_dx = 0.0', 'world_average_dx = 0.0')\n",
      "(80, 15, 8, 'total_annual_dx = 0.04999999999998295', 'country_average_dx = 0.0', 'world_average_dx = 0.0')\n",
      "(72, 18, 8, 'total_annual_dx = 0.060000000000002274', 'country_average_dx = 0.0', 'world_average_dx = 0.0')\n",
      "(45, 21, 6, 'total_annual_dx = 0.05000000000001137', 'country_average_dx = 0.0', 'world_average_dx = 0.0')\n",
      "(45, 24, 7, 'total_annual_dx = 0.04999999999999716', 'country_average_dx = 0.0', 'world_average_dx = 0.0')\n",
      "(33, 27, 1, 'total_annual_dx = 0.060000000000002274', 'country_average_dx = 0.0', 'world_average_dx = 0.0')\n",
      "(45, 30, 1, 'total_annual_dx = 0.060000000000002274', 'country_average_dx = 0.0', 'world_average_dx = 0.0')\n",
      "(35, 33, 5, 'total_annual_dx = 0.060000000000002274', 'country_average_dx = 0.0', 'world_average_dx = 0.0')\n",
      "(80, 36, 5, 'total_annual_dx = 0.060000000000002274', 'country_average_dx = 0.0', 'world_average_dx = 0.0')\n",
      "(72, 39, 3, 'total_annual_dx = 0.060000000000002274', 'country_average_dx = 0.0', 'world_average_dx = 0.0')\n",
      "(72, 42, 1, 'total_annual_dx = 0.05999999999998806', 'country_average_dx = 0.0', 'world_average_dx = 0.0')\n",
      "(45, 45, 1, 'total_annual_dx = 0.060000000000002274', 'country_average_dx = 0.0', 'world_average_dx = 0.0')\n",
      "(45, 48, 3, 'total_annual_dx = 0.04999999999999716', 'country_average_dx = 0.0', 'world_average_dx = 0.0')\n",
      "(33, 51, 7, 'total_annual_dx = 0.04999999999999716', 'country_average_dx = 0.0', 'world_average_dx = 0.0')\n",
      "(45, 54, 5, 'total_annual_dx = 0.05999999999998806', 'country_average_dx = 0.0', 'world_average_dx = 0.0')\n",
      "(45, 57, 7, 'total_annual_dx = 0.04999999999999716', 'country_average_dx = 0.0', 'world_average_dx = 0.0')\n",
      "(33, 60, 6, 'total_annual_dx = 0.04999999999999716', 'country_average_dx = 0.0', 'world_average_dx = 0.0')\n",
      "(80, 63, 3, 'total_annual_dx = 0.05000000000001137', 'country_average_dx = 0.0', 'world_average_dx = 0.0')\n",
      "(35, 66, 7, 'total_annual_dx = 0.05000000000001137', 'country_average_dx = 0.0', 'world_average_dx = 0.0')\n",
      "(72, 69, 1, 'total_annual_dx = 0.04999999999999716', 'country_average_dx = 0.0', 'world_average_dx = 0.0')\n",
      "(45, 72, 5, 'total_annual_dx = 0.04999999999999716', 'country_average_dx = 0.0', 'world_average_dx = 0.0')\n",
      "(35, 75, 6, 'total_annual_dx = 0.04999999999999716', 'country_average_dx = 0.0', 'world_average_dx = 0.0')\n",
      "(72, 78, 8, 'total_annual_dx = 0.060000000000002274', 'country_average_dx = 0.0', 'world_average_dx = 0.0')\n",
      "(45, 81, 3, 'total_annual_dx = 0.04999999999999716', 'country_average_dx = 0.0', 'world_average_dx = 0.0')\n",
      "(80, 84, 4, 'total_annual_dx = 0.04999999999999716', 'country_average_dx = 0.0', 'world_average_dx = 0.0')\n",
      "(35, 87, 8, 'total_annual_dx = 0.060000000000002274', 'country_average_dx = 0.0', 'world_average_dx = 0.0')\n",
      "(33, 90, 7, 'total_annual_dx = 0.060000000000002274', 'country_average_dx = 0.0', 'world_average_dx = 0.0')\n",
      "(72, 93, 7, 'total_annual_dx = 0.04999999999999716', 'country_average_dx = 0.0', 'world_average_dx = 0.0')\n"
     ]
    }
   ],
   "source": [
    "field = \"TransportViewModel.Tram\"\n",
    "forms_field = []\n",
    "for i in range(0, 96, 3):\n",
    "    form = get_random_form(FORM)\n",
    "    form[field] = i\n",
    "    forms_field.append((form, field))\n",
    "\n",
    "rss = []\n",
    "with Pool(32) as pool:\n",
    "    rss = pool.map(get_record, forms_field)\n",
    "    pool.close()\n",
    "    pool.join()\n",
    "\n",
    "for record in rss:\n",
    "    print(record)"
   ]
  },
  {
   "cell_type": "markdown",
   "metadata": {},
   "source": [
    "# TransportViewModel.BikeWalk"
   ]
  },
  {
   "cell_type": "code",
   "execution_count": 12,
   "metadata": {},
   "outputs": [
    {
     "name": "stdout",
     "output_type": "stream",
     "text": [
      "(33, 0, 8, 'total_annual_dx = -0.11000000000001364', 'country_average_dx = 0.0', 'world_average_dx = 0.0')\n",
      "(45, 3, 8, 'total_annual_dx = -0.13000000000000966', 'country_average_dx = 0.0', 'world_average_dx = 0.0')\n",
      "(35, 6, 6, 'total_annual_dx = -0.1599999999999966', 'country_average_dx = 0.0', 'world_average_dx = 0.0')\n",
      "(80, 9, 8, 'total_annual_dx = -0.14999999999999147', 'country_average_dx = 0.0', 'world_average_dx = 0.0')\n",
      "(35, 12, 4, 'total_annual_dx = -0.10999999999999943', 'country_average_dx = 0.0', 'world_average_dx = 0.0')\n",
      "(80, 15, 1, 'total_annual_dx = 0.0', 'country_average_dx = 0.0', 'world_average_dx = 0.0')\n",
      "(80, 18, 7, 'total_annual_dx = 0.0', 'country_average_dx = 0.0', 'world_average_dx = 0.0')\n",
      "(33, 21, 6, 'total_annual_dx = 0.0', 'country_average_dx = 0.0', 'world_average_dx = 0.0')\n",
      "(35, 24, 7, 'total_annual_dx = 0.0', 'country_average_dx = 0.0', 'world_average_dx = 0.0')\n",
      "(80, 27, 7, 'total_annual_dx = 0.0', 'country_average_dx = 0.0', 'world_average_dx = 0.0')\n",
      "(45, 30, 1, 'total_annual_dx = 0.0', 'country_average_dx = 0.0', 'world_average_dx = 0.0')\n",
      "(45, 33, 4, 'total_annual_dx = 0.0', 'country_average_dx = 0.0', 'world_average_dx = 0.0')\n",
      "(72, 36, 8, 'total_annual_dx = 0.0', 'country_average_dx = 0.0', 'world_average_dx = 0.0')\n",
      "(72, 39, 3, 'total_annual_dx = 0.0', 'country_average_dx = 0.0', 'world_average_dx = 0.0')\n",
      "(33, 42, 5, 'total_annual_dx = 0.0', 'country_average_dx = 0.0', 'world_average_dx = 0.0')\n",
      "(45, 45, 5, 'total_annual_dx = 0.0', 'country_average_dx = 0.0', 'world_average_dx = 0.0')\n",
      "(35, 48, 4, 'total_annual_dx = 0.0', 'country_average_dx = 0.0', 'world_average_dx = 0.0')\n",
      "(33, 51, 7, 'total_annual_dx = 0.0', 'country_average_dx = 0.0', 'world_average_dx = 0.0')\n",
      "(35, 54, 6, 'total_annual_dx = 0.0', 'country_average_dx = 0.0', 'world_average_dx = 0.0')\n",
      "(35, 57, 3, 'total_annual_dx = 0.0', 'country_average_dx = 0.0', 'world_average_dx = 0.0')\n",
      "(33, 60, 1, 'total_annual_dx = 0.0', 'country_average_dx = 0.0', 'world_average_dx = 0.0')\n",
      "(72, 63, 1, 'total_annual_dx = 0.0', 'country_average_dx = 0.0', 'world_average_dx = 0.0')\n",
      "(45, 66, 1, 'total_annual_dx = 0.0', 'country_average_dx = 0.0', 'world_average_dx = 0.0')\n",
      "(80, 69, 3, 'total_annual_dx = 0.0', 'country_average_dx = 0.0', 'world_average_dx = 0.0')\n",
      "(45, 72, 5, 'total_annual_dx = 0.0', 'country_average_dx = 0.0', 'world_average_dx = 0.0')\n",
      "(33, 75, 4, 'total_annual_dx = 0.0', 'country_average_dx = 0.0', 'world_average_dx = 0.0')\n",
      "(45, 78, 2, 'total_annual_dx = 0.0', 'country_average_dx = 0.0', 'world_average_dx = 0.0')\n",
      "(72, 81, 8, 'total_annual_dx = 0.0', 'country_average_dx = 0.0', 'world_average_dx = 0.0')\n",
      "(80, 84, 5, 'total_annual_dx = 0.0', 'country_average_dx = 0.0', 'world_average_dx = 0.0')\n",
      "(80, 87, 3, 'total_annual_dx = 0.0', 'country_average_dx = 0.0', 'world_average_dx = 0.0')\n",
      "(35, 90, 2, 'total_annual_dx = 0.0', 'country_average_dx = 0.0', 'world_average_dx = 0.0')\n",
      "(72, 93, 1, 'total_annual_dx = 0.0', 'country_average_dx = 0.0', 'world_average_dx = 0.0')\n"
     ]
    }
   ],
   "source": [
    "field = \"TransportViewModel.BikeWalk\"\n",
    "forms_field = []\n",
    "for i in range(0, 96, 3):\n",
    "    form = get_random_form(FORM)\n",
    "    form[field] = i\n",
    "    forms_field.append((form, field))\n",
    "\n",
    "rss = []\n",
    "with Pool(32) as pool:\n",
    "    rss = pool.map(get_record, forms_field)\n",
    "    pool.close()\n",
    "    pool.join()\n",
    "\n",
    "for record in rss:\n",
    "    print(record)"
   ]
  },
  {
   "cell_type": "markdown",
   "metadata": {},
   "source": [
    "# TransportViewModel.VeryLongRangeFlight"
   ]
  },
  {
   "cell_type": "code",
   "execution_count": 8,
   "metadata": {},
   "outputs": [
    {
     "name": "stdout",
     "output_type": "stream",
     "text": [
      "(80, 0, 7, 'total_annual_dx = 6.47999999999999', 'country_average_dx = 0.0', 'world_average_dx = 0.0')\n",
      "(45, 3, 6, 'total_annual_dx = 6.480000000000004', 'country_average_dx = 0.0', 'world_average_dx = 0.0')\n",
      "(33, 6, 5, 'total_annual_dx = 6.480000000000004', 'country_average_dx = 0.0', 'world_average_dx = 0.0')\n",
      "(35, 9, 4, 'total_annual_dx = 6.480000000000018', 'country_average_dx = 0.0', 'world_average_dx = 0.0')\n",
      "(35, 12, 6, 'total_annual_dx = 6.47999999999999', 'country_average_dx = 0.0', 'world_average_dx = 0.0')\n",
      "(80, 15, 1, 'total_annual_dx = 6.47999999999999', 'country_average_dx = 0.0', 'world_average_dx = 0.0')\n",
      "(33, 18, 1, 'total_annual_dx = 6.47999999999999', 'country_average_dx = 0.0', 'world_average_dx = 0.0')\n",
      "(72, 21, 7, 'total_annual_dx = 6.47999999999999', 'country_average_dx = 0.0', 'world_average_dx = 0.0')\n",
      "(35, 24, 1, 'total_annual_dx = 6.47999999999999', 'country_average_dx = 0.0', 'world_average_dx = 0.0')\n",
      "(33, 27, 1, 'total_annual_dx = 6.47999999999999', 'country_average_dx = 0.0', 'world_average_dx = 0.0')\n",
      "(35, 30, 8, 'total_annual_dx = 6.480000000000018', 'country_average_dx = 0.0', 'world_average_dx = 0.0')\n",
      "(72, 33, 7, 'total_annual_dx = 6.479999999999961', 'country_average_dx = 0.0', 'world_average_dx = 0.0')\n",
      "(80, 36, 3, 'total_annual_dx = 6.480000000000018', 'country_average_dx = 0.0', 'world_average_dx = 0.0')\n",
      "(80, 39, 8, 'total_annual_dx = 6.479999999999961', 'country_average_dx = 0.0', 'world_average_dx = 0.0')\n",
      "(80, 42, 7, 'total_annual_dx = 6.479999999999961', 'country_average_dx = 0.0', 'world_average_dx = 0.0')\n",
      "(33, 45, 6, 'total_annual_dx = 6.480000000000018', 'country_average_dx = 0.0', 'world_average_dx = 0.0')\n",
      "(33, 48, 6, 'total_annual_dx = 6.480000000000018', 'country_average_dx = 0.0', 'world_average_dx = 0.0')\n",
      "(80, 51, 5, 'total_annual_dx = 6.480000000000018', 'country_average_dx = 0.0', 'world_average_dx = 0.0')\n",
      "(35, 54, 4, 'total_annual_dx = 6.480000000000018', 'country_average_dx = 0.0', 'world_average_dx = 0.0')\n",
      "(80, 57, 8, 'total_annual_dx = 6.480000000000018', 'country_average_dx = 0.0', 'world_average_dx = 0.0')\n",
      "(72, 60, 6, 'total_annual_dx = 6.479999999999961', 'country_average_dx = 0.0', 'world_average_dx = 0.0')\n",
      "(72, 63, 3, 'total_annual_dx = 6.480000000000018', 'country_average_dx = 0.0', 'world_average_dx = 0.0')\n",
      "(80, 66, 7, 'total_annual_dx = 6.480000000000018', 'country_average_dx = 0.0', 'world_average_dx = 0.0')\n",
      "(33, 69, 4, 'total_annual_dx = 6.480000000000018', 'country_average_dx = 0.0', 'world_average_dx = 0.0')\n",
      "(72, 72, 4, 'total_annual_dx = 6.480000000000018', 'country_average_dx = 0.0', 'world_average_dx = 0.0')\n",
      "(35, 75, 1, 'total_annual_dx = 6.480000000000018', 'country_average_dx = 0.0', 'world_average_dx = 0.0')\n",
      "(72, 78, 7, 'total_annual_dx = 6.480000000000018', 'country_average_dx = 0.0', 'world_average_dx = 0.0')\n",
      "(35, 81, 8, 'total_annual_dx = 6.480000000000018', 'country_average_dx = 0.0', 'world_average_dx = 0.0')\n",
      "(72, 84, 5, 'total_annual_dx = 6.480000000000018', 'country_average_dx = 0.0', 'world_average_dx = 0.0')\n",
      "(45, 87, 4, 'total_annual_dx = 6.480000000000018', 'country_average_dx = 0.0', 'world_average_dx = 0.0')\n",
      "(72, 90, 6, 'total_annual_dx = 6.480000000000018', 'country_average_dx = 0.0', 'world_average_dx = 0.0')\n",
      "(45, 93, 7, 'total_annual_dx = 6.4799999999999045', 'country_average_dx = 0.0', 'world_average_dx = 0.0')\n"
     ]
    }
   ],
   "source": [
    "field = \"TransportViewModel.VeryLongRangeFlight\"\n",
    "forms_field = []\n",
    "for i in range(0, 96, 3):\n",
    "    form = get_random_form(FORM)\n",
    "    form[field] = i\n",
    "    forms_field.append((form, field))\n",
    "\n",
    "rss = []\n",
    "with Pool(32) as pool:\n",
    "    rss = pool.map(get_record, forms_field)\n",
    "    pool.close()\n",
    "    pool.join()\n",
    "\n",
    "for record in rss:\n",
    "    print(record)"
   ]
  },
  {
   "cell_type": "markdown",
   "metadata": {},
   "source": [
    "# TransportViewModel.LongRangeFlight"
   ]
  },
  {
   "cell_type": "code",
   "execution_count": 9,
   "metadata": {},
   "outputs": [
    {
     "name": "stdout",
     "output_type": "stream",
     "text": [
      "(45, 0, 6, 'total_annual_dx = 3.809999999999988', 'country_average_dx = 0.0', 'world_average_dx = 0.0')\n",
      "(33, 3, 4, 'total_annual_dx = 3.8100000000000023', 'country_average_dx = 0.0', 'world_average_dx = 0.0')\n",
      "(80, 6, 8, 'total_annual_dx = 3.8100000000000023', 'country_average_dx = 0.0', 'world_average_dx = 0.0')\n",
      "(72, 9, 3, 'total_annual_dx = 3.809999999999988', 'country_average_dx = 0.0', 'world_average_dx = 0.0')\n",
      "(33, 12, 6, 'total_annual_dx = 3.8100000000000023', 'country_average_dx = 0.0', 'world_average_dx = 0.0')\n",
      "(80, 15, 4, 'total_annual_dx = 3.8100000000000023', 'country_average_dx = 0.0', 'world_average_dx = 0.0')\n",
      "(45, 18, 8, 'total_annual_dx = 3.8100000000000023', 'country_average_dx = 0.0', 'world_average_dx = 0.0')\n",
      "(80, 21, 1, 'total_annual_dx = 3.8100000000000023', 'country_average_dx = 0.0', 'world_average_dx = 0.0')\n",
      "(33, 24, 3, 'total_annual_dx = 3.799999999999983', 'country_average_dx = 0.0', 'world_average_dx = 0.0')\n",
      "(45, 27, 1, 'total_annual_dx = 3.8100000000000023', 'country_average_dx = 0.0', 'world_average_dx = 0.0')\n",
      "(80, 30, 7, 'total_annual_dx = 3.8100000000000023', 'country_average_dx = 0.0', 'world_average_dx = 0.0')\n",
      "(33, 33, 3, 'total_annual_dx = 3.799999999999983', 'country_average_dx = 0.0', 'world_average_dx = 0.0')\n",
      "(45, 36, 7, 'total_annual_dx = 3.8000000000000114', 'country_average_dx = 0.0', 'world_average_dx = 0.0')\n",
      "(45, 39, 3, 'total_annual_dx = 3.8100000000000023', 'country_average_dx = 0.0', 'world_average_dx = 0.0')\n",
      "(72, 42, 1, 'total_annual_dx = 3.8100000000000023', 'country_average_dx = 0.0', 'world_average_dx = 0.0')\n",
      "(35, 45, 7, 'total_annual_dx = 3.8100000000000023', 'country_average_dx = 0.0', 'world_average_dx = 0.0')\n",
      "(45, 48, 4, 'total_annual_dx = 3.8100000000000023', 'country_average_dx = 0.0', 'world_average_dx = 0.0')\n",
      "(80, 51, 6, 'total_annual_dx = 3.8100000000000023', 'country_average_dx = 0.0', 'world_average_dx = 0.0')\n",
      "(45, 54, 5, 'total_annual_dx = 3.809999999999974', 'country_average_dx = 0.0', 'world_average_dx = 0.0')\n",
      "(33, 57, 4, 'total_annual_dx = 3.8100000000000023', 'country_average_dx = 0.0', 'world_average_dx = 0.0')\n",
      "(45, 60, 1, 'total_annual_dx = 3.799999999999983', 'country_average_dx = 0.0', 'world_average_dx = 0.0')\n",
      "(72, 63, 1, 'total_annual_dx = 3.8100000000000023', 'country_average_dx = 0.0', 'world_average_dx = 0.0')\n",
      "(80, 66, 2, 'total_annual_dx = 3.8000000000000114', 'country_average_dx = 0.0', 'world_average_dx = 0.0')\n",
      "(35, 69, 4, 'total_annual_dx = 3.8100000000000023', 'country_average_dx = 0.0', 'world_average_dx = 0.0')\n",
      "(35, 72, 6, 'total_annual_dx = 3.7999999999999545', 'country_average_dx = 0.0', 'world_average_dx = 0.0')\n",
      "(72, 75, 7, 'total_annual_dx = 3.8100000000000023', 'country_average_dx = 0.0', 'world_average_dx = 0.0')\n",
      "(45, 78, 1, 'total_annual_dx = 3.8000000000000114', 'country_average_dx = 0.0', 'world_average_dx = 0.0')\n",
      "(80, 81, 1, 'total_annual_dx = 3.8100000000000023', 'country_average_dx = 0.0', 'world_average_dx = 0.0')\n",
      "(33, 84, 1, 'total_annual_dx = 3.8000000000000114', 'country_average_dx = 0.0', 'world_average_dx = 0.0')\n",
      "(45, 87, 5, 'total_annual_dx = 3.8099999999999454', 'country_average_dx = 0.0', 'world_average_dx = 0.0')\n",
      "(45, 90, 2, 'total_annual_dx = 3.8000000000000114', 'country_average_dx = 0.0', 'world_average_dx = 0.0')\n",
      "(45, 93, 4, 'total_annual_dx = 3.8000000000000114', 'country_average_dx = 0.0', 'world_average_dx = 0.0')\n"
     ]
    }
   ],
   "source": [
    "field = \"TransportViewModel.LongRangeFlight\"\n",
    "forms_field = []\n",
    "for i in range(0, 96, 3):\n",
    "    form = get_random_form(FORM)\n",
    "    form[field] = i\n",
    "    forms_field.append((form, field))\n",
    "\n",
    "rss = []\n",
    "with Pool(32) as pool:\n",
    "    rss = pool.map(get_record, forms_field)\n",
    "    pool.close()\n",
    "    pool.join()\n",
    "\n",
    "for record in rss:\n",
    "    print(record)"
   ]
  },
  {
   "cell_type": "markdown",
   "metadata": {},
   "source": [
    "# TransportViewModel.MediumRangeFlight"
   ]
  },
  {
   "cell_type": "code",
   "execution_count": 10,
   "metadata": {},
   "outputs": [
    {
     "name": "stdout",
     "output_type": "stream",
     "text": [
      "(33, 0, 4, 'total_annual_dx = 2.030000000000001', 'country_average_dx = 0.0', 'world_average_dx = 0.0')\n",
      "(72, 3, 7, 'total_annual_dx = 2.019999999999996', 'country_average_dx = 0.0', 'world_average_dx = 0.0')\n",
      "(33, 6, 8, 'total_annual_dx = 2.019999999999996', 'country_average_dx = 0.0', 'world_average_dx = 0.0')\n",
      "(33, 9, 3, 'total_annual_dx = 2.019999999999996', 'country_average_dx = 0.0', 'world_average_dx = 0.0')\n",
      "(33, 12, 8, 'total_annual_dx = 2.030000000000001', 'country_average_dx = 0.0', 'world_average_dx = 0.0')\n",
      "(80, 15, 7, 'total_annual_dx = 2.030000000000001', 'country_average_dx = 0.0', 'world_average_dx = 0.0')\n",
      "(80, 18, 2, 'total_annual_dx = 2.030000000000001', 'country_average_dx = 0.0', 'world_average_dx = 0.0')\n",
      "(80, 21, 8, 'total_annual_dx = 2.030000000000001', 'country_average_dx = 0.0', 'world_average_dx = 0.0')\n",
      "(80, 24, 4, 'total_annual_dx = 2.030000000000001', 'country_average_dx = 0.0', 'world_average_dx = 0.0')\n",
      "(80, 27, 7, 'total_annual_dx = 2.030000000000001', 'country_average_dx = 0.0', 'world_average_dx = 0.0')\n",
      "(45, 30, 6, 'total_annual_dx = 2.030000000000001', 'country_average_dx = 0.0', 'world_average_dx = 0.0')\n",
      "(72, 33, 6, 'total_annual_dx = 2.019999999999982', 'country_average_dx = 0.0', 'world_average_dx = 0.0')\n",
      "(80, 36, 8, 'total_annual_dx = 2.030000000000001', 'country_average_dx = 0.0', 'world_average_dx = 0.0')\n",
      "(33, 39, 2, 'total_annual_dx = 2.0200000000000102', 'country_average_dx = 0.0', 'world_average_dx = 0.0')\n",
      "(35, 42, 2, 'total_annual_dx = 2.019999999999996', 'country_average_dx = 0.0', 'world_average_dx = 0.0')\n",
      "(45, 45, 6, 'total_annual_dx = 2.030000000000001', 'country_average_dx = 0.0', 'world_average_dx = 0.0')\n",
      "(33, 48, 8, 'total_annual_dx = 2.019999999999982', 'country_average_dx = 0.0', 'world_average_dx = 0.0')\n",
      "(72, 51, 2, 'total_annual_dx = 2.030000000000001', 'country_average_dx = 0.0', 'world_average_dx = 0.0')\n",
      "(35, 54, 8, 'total_annual_dx = 2.0200000000000102', 'country_average_dx = 0.0', 'world_average_dx = 0.0')\n",
      "(33, 57, 6, 'total_annual_dx = 2.030000000000001', 'country_average_dx = 0.0', 'world_average_dx = 0.0')\n",
      "(35, 60, 6, 'total_annual_dx = 2.030000000000001', 'country_average_dx = 0.0', 'world_average_dx = 0.0')\n",
      "(80, 63, 3, 'total_annual_dx = 2.0200000000000102', 'country_average_dx = 0.0', 'world_average_dx = 0.0')\n",
      "(80, 66, 7, 'total_annual_dx = 2.030000000000001', 'country_average_dx = 0.0', 'world_average_dx = 0.0')\n",
      "(45, 69, 2, 'total_annual_dx = 2.030000000000001', 'country_average_dx = 0.0', 'world_average_dx = 0.0')\n",
      "(45, 72, 6, 'total_annual_dx = 2.030000000000001', 'country_average_dx = 0.0', 'world_average_dx = 0.0')\n",
      "(80, 75, 1, 'total_annual_dx = 2.0200000000000102', 'country_average_dx = 0.0', 'world_average_dx = 0.0')\n",
      "(72, 78, 3, 'total_annual_dx = 2.0299999999999727', 'country_average_dx = 0.0', 'world_average_dx = 0.0')\n",
      "(72, 81, 7, 'total_annual_dx = 2.030000000000001', 'country_average_dx = 0.0', 'world_average_dx = 0.0')\n",
      "(33, 84, 6, 'total_annual_dx = 2.019999999999982', 'country_average_dx = 0.0', 'world_average_dx = 0.0')\n",
      "(35, 87, 3, 'total_annual_dx = 2.0200000000000102', 'country_average_dx = 0.0', 'world_average_dx = 0.0')\n",
      "(35, 90, 6, 'total_annual_dx = 2.019999999999982', 'country_average_dx = 0.0', 'world_average_dx = 0.0')\n",
      "(72, 93, 4, 'total_annual_dx = 2.0300000000000296', 'country_average_dx = 0.0', 'world_average_dx = 0.0')\n"
     ]
    }
   ],
   "source": [
    "field = \"TransportViewModel.MediumRangeFlight\"\n",
    "forms_field = []\n",
    "for i in range(0, 96, 3):\n",
    "    form = get_random_form(FORM)\n",
    "    form[field] = i\n",
    "    forms_field.append((form, field))\n",
    "\n",
    "rss = []\n",
    "with Pool(32) as pool:\n",
    "    rss = pool.map(get_record, forms_field)\n",
    "    pool.close()\n",
    "    pool.join()\n",
    "\n",
    "for record in rss:\n",
    "    print(record)"
   ]
  },
  {
   "cell_type": "markdown",
   "metadata": {},
   "source": [
    "# TransportViewModel.ShortRangeFlight"
   ]
  },
  {
   "cell_type": "code",
   "execution_count": 11,
   "metadata": {},
   "outputs": [
    {
     "name": "stdout",
     "output_type": "stream",
     "text": [
      "(80, 0, 8, 'total_annual_dx = 0.8200000000000074', 'country_average_dx = 0.0', 'world_average_dx = 0.0')\n",
      "(45, 3, 2, 'total_annual_dx = 0.8299999999999983', 'country_average_dx = 0.0', 'world_average_dx = 0.0')\n",
      "(45, 6, 7, 'total_annual_dx = 0.8299999999999983', 'country_average_dx = 0.0', 'world_average_dx = 0.0')\n",
      "(33, 9, 7, 'total_annual_dx = 0.8199999999999932', 'country_average_dx = 0.0', 'world_average_dx = 0.0')\n",
      "(80, 12, 5, 'total_annual_dx = 0.8200000000000074', 'country_average_dx = 0.0', 'world_average_dx = 0.0')\n",
      "(45, 15, 3, 'total_annual_dx = 0.8299999999999983', 'country_average_dx = 0.0', 'world_average_dx = 0.0')\n",
      "(72, 18, 5, 'total_annual_dx = 0.8299999999999983', 'country_average_dx = 0.0', 'world_average_dx = 0.0')\n",
      "(72, 21, 8, 'total_annual_dx = 0.8199999999999932', 'country_average_dx = 0.0', 'world_average_dx = 0.0')\n",
      "(80, 24, 4, 'total_annual_dx = 0.8300000000000125', 'country_average_dx = 0.0', 'world_average_dx = 0.0')\n",
      "(33, 27, 6, 'total_annual_dx = 0.8300000000000125', 'country_average_dx = 0.0', 'world_average_dx = 0.0')\n",
      "(45, 30, 2, 'total_annual_dx = 0.8299999999999983', 'country_average_dx = 0.0', 'world_average_dx = 0.0')\n",
      "(80, 33, 8, 'total_annual_dx = 0.8299999999999841', 'country_average_dx = 0.0', 'world_average_dx = 0.0')\n",
      "(72, 36, 8, 'total_annual_dx = 0.8199999999999932', 'country_average_dx = 0.0', 'world_average_dx = 0.0')\n",
      "(80, 39, 6, 'total_annual_dx = 0.8199999999999932', 'country_average_dx = 0.0', 'world_average_dx = 0.0')\n",
      "(72, 42, 3, 'total_annual_dx = 0.8299999999999983', 'country_average_dx = 0.0', 'world_average_dx = 0.0')\n",
      "(72, 45, 7, 'total_annual_dx = 0.8299999999999983', 'country_average_dx = 0.0', 'world_average_dx = 0.0')\n",
      "(35, 48, 2, 'total_annual_dx = 0.8200000000000074', 'country_average_dx = 0.0', 'world_average_dx = 0.0')\n",
      "(80, 51, 1, 'total_annual_dx = 0.8200000000000074', 'country_average_dx = 0.0', 'world_average_dx = 0.0')\n",
      "(80, 54, 6, 'total_annual_dx = 0.8199999999999932', 'country_average_dx = 0.0', 'world_average_dx = 0.0')\n",
      "(33, 57, 3, 'total_annual_dx = 0.8299999999999983', 'country_average_dx = 0.0', 'world_average_dx = 0.0')\n",
      "(33, 60, 5, 'total_annual_dx = 0.8199999999999932', 'country_average_dx = 0.0', 'world_average_dx = 0.0')\n",
      "(80, 63, 2, 'total_annual_dx = 0.8299999999999983', 'country_average_dx = 0.0', 'world_average_dx = 0.0')\n",
      "(72, 66, 3, 'total_annual_dx = 0.8199999999999932', 'country_average_dx = 0.0', 'world_average_dx = 0.0')\n",
      "(72, 69, 1, 'total_annual_dx = 0.8200000000000074', 'country_average_dx = 0.0', 'world_average_dx = 0.0')\n",
      "(45, 72, 8, 'total_annual_dx = 0.8299999999999841', 'country_average_dx = 0.0', 'world_average_dx = 0.0')\n",
      "(80, 75, 5, 'total_annual_dx = 0.8299999999999983', 'country_average_dx = 0.0', 'world_average_dx = 0.0')\n",
      "(80, 78, 1, 'total_annual_dx = 0.8300000000000125', 'country_average_dx = 0.0', 'world_average_dx = 0.0')\n",
      "(45, 81, 1, 'total_annual_dx = 0.8199999999999932', 'country_average_dx = 0.0', 'world_average_dx = 0.0')\n",
      "(33, 84, 4, 'total_annual_dx = 0.8299999999999983', 'country_average_dx = 0.0', 'world_average_dx = 0.0')\n",
      "(45, 87, 3, 'total_annual_dx = 0.8299999999999983', 'country_average_dx = 0.0', 'world_average_dx = 0.0')\n",
      "(72, 90, 7, 'total_annual_dx = 0.8300000000000125', 'country_average_dx = 0.0', 'world_average_dx = 0.0')\n",
      "(72, 93, 8, 'total_annual_dx = 0.8199999999999932', 'country_average_dx = 0.0', 'world_average_dx = 0.0')\n"
     ]
    }
   ],
   "source": [
    "field = \"TransportViewModel.ShortRangeFlight\"\n",
    "forms_field = []\n",
    "for i in range(0, 96, 3):\n",
    "    form = get_random_form(FORM)\n",
    "    form[field] = i\n",
    "    forms_field.append((form, field))\n",
    "\n",
    "rss = []\n",
    "with Pool(32) as pool:\n",
    "    rss = pool.map(get_record, forms_field)\n",
    "    pool.close()\n",
    "    pool.join()\n",
    "\n",
    "for record in rss:\n",
    "    print(record)"
   ]
  },
  {
   "cell_type": "code",
   "execution_count": null,
   "metadata": {},
   "outputs": [],
   "source": []
  }
 ],
 "metadata": {
  "kernelspec": {
   "display_name": "Python 3",
   "language": "python",
   "name": "python3"
  },
  "language_info": {
   "codemirror_mode": {
    "name": "ipython",
    "version": 3
   },
   "file_extension": ".py",
   "mimetype": "text/x-python",
   "name": "python",
   "nbconvert_exporter": "python",
   "pygments_lexer": "ipython3",
   "version": "3.7.3"
  }
 },
 "nbformat": 4,
 "nbformat_minor": 4
}
