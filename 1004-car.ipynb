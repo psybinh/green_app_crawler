{
 "cells": [
  {
   "cell_type": "code",
   "execution_count": 24,
   "metadata": {},
   "outputs": [],
   "source": [
    "from headers import HEADERS\n",
    "from green_app_lib import get_random_form, get_result, parse_content\n",
    "from forms import FORM\n",
    "import requests\n",
    "import time\n",
    "from multiprocessing import Pool, cpu_count\n",
    "import random\n",
    "\n",
    "def get_random_car():\n",
    "    random_form = get_random_form(FORM)\n",
    "    random_form[\"TransportViewModel.CarUsageList[0].SelectedFuelTypeOptionId\"] = 15 # random.choice([15, 16, 17, 18])\n",
    "    random_form[\"TransportViewModel.CarUsageList[0].AnnualMileage\"] = random.randint(1, 250) * 200\n",
    "    random_form[\"TransportViewModel.CarUsageList[0].AverageConsumption\"] = random.randint(1, 11)\n",
    "    return random_form\n",
    "\n",
    "def get_record(form_field_step):\n",
    "    form, field, step = form_field_step\n",
    "\n",
    "    form_x = form.copy()\n",
    "    form_x[field] = form[field] + step\n",
    "    \n",
    "    page1 = None\n",
    "    page2 = None\n",
    "    try:\n",
    "        page1 = get_result(form)\n",
    "        page2 = get_result(form_x)\n",
    "    except Exception as e:\n",
    "        print(e)\n",
    "    \n",
    "    result1 = None\n",
    "    result2 = None\n",
    "    if page1 != None:\n",
    "        if page1.ok:\n",
    "            result1 = parse_content(page1)\n",
    "    if page2 != None:\n",
    "        if page2.ok:\n",
    "            result2 = parse_content(page2)\n",
    "        \n",
    "    if result1 != None and result2 != None:\n",
    "        return (form['HouseholdViewModel.SelectedResidenceCountryId'],\n",
    "                form[\"HouseholdViewModel.HouseholdSize\"],\n",
    "                'type_fuel = {}'.format(form['TransportViewModel.CarUsageList[0].SelectedFuelTypeOptionId']),\n",
    "                'mileages = {}'.format(form['TransportViewModel.CarUsageList[0].AnnualMileage'] / 1000),\n",
    "                'liters = {}'.format(form['TransportViewModel.CarUsageList[0].AverageConsumption']),\n",
    "                'total_annual_dx = {}'.format((float(result2['total_annual']) - float(result1['total_annual'])) / form['TransportViewModel.CarUsageList[0].AverageConsumption']))\n",
    "    return 0"
   ]
  },
  {
   "cell_type": "markdown",
   "metadata": {},
   "source": [
    "# TransportViewModel.CarUsageList[0].AnnualMileage"
   ]
  },
  {
   "cell_type": "code",
   "execution_count": 25,
   "metadata": {},
   "outputs": [
    {
     "name": "stdout",
     "output_type": "stream",
     "text": [
      "(33, 7, 'type_fuel = 15', 'mileages = 50.0', 'liters = 2', 'total_annual_dx = 0.024999999999991473')\n",
      "(35, 1, 'type_fuel = 15', 'mileages = 60.0', 'liters = 8', 'total_annual_dx = 0.023750000000001492')\n",
      "(35, 4, 'type_fuel = 15', 'mileages = 70.0', 'liters = 4', 'total_annual_dx = 0.02499999999999858')\n",
      "(33, 2, 'type_fuel = 15', 'mileages = 80.0', 'liters = 2', 'total_annual_dx = 0.02499999999999858')\n",
      "(33, 2, 'type_fuel = 15', 'mileages = 90.0', 'liters = 1', 'total_annual_dx = 0.01999999999999602')\n"
     ]
    }
   ],
   "source": [
    "field = \"TransportViewModel.CarUsageList[0].AnnualMileage\"\n",
    "step = 1000\n",
    "forms_field_step = []\n",
    "for i in range(50000, 100000, 10000):\n",
    "    form = get_random_car()\n",
    "    form[field] = i\n",
    "    forms_field_step.append((form, field, step))\n",
    "\n",
    "rss = []\n",
    "with Pool(32) as pool:\n",
    "    rss = pool.map(get_record, forms_field_step)\n",
    "    pool.close()\n",
    "    pool.join()\n",
    "\n",
    "for record in rss:\n",
    "    print(record)"
   ]
  },
  {
   "cell_type": "markdown",
   "metadata": {},
   "source": [
    "# TransportViewModel.CarUsageList[0].AverageConsumption"
   ]
  },
  {
   "cell_type": "code",
   "execution_count": 26,
   "metadata": {},
   "outputs": [
    {
     "name": "stdout",
     "output_type": "stream",
     "text": [
      "(80, 4, 'type_fuel = 15', 'mileages = 34.4', 'liters = 1', 'total_annual_dx = 2.3100000000000023')\n",
      "(72, 7, 'type_fuel = 15', 'mileages = 39.2', 'liters = 1001', 'total_annual_dx = 0.0009290709290709927')\n",
      "(45, 3, 'type_fuel = 15', 'mileages = 36.6', 'liters = 2001', 'total_annual_dx = 0.00043478260869559765')\n",
      "(80, 5, 'type_fuel = 15', 'mileages = 21.4', 'liters = 3001', 'total_annual_dx = 0.00047650783072288624')\n",
      "(33, 4, 'type_fuel = 15', 'mileages = 20.0', 'liters = 4001', 'total_annual_dx = 0.00011997000749813001')\n",
      "(35, 6, 'type_fuel = 15', 'mileages = 3.2', 'liters = 5001', 'total_annual_dx = 1.3997200559875292e-05')\n",
      "(35, 8, 'type_fuel = 15', 'mileages = 36.8', 'liters = 6001', 'total_annual_dx = 0.00014664222629563557')\n",
      "(35, 2, 'type_fuel = 15', 'mileages = 30.4', 'liters = 7001', 'total_annual_dx = 0.00010284245107832384')\n",
      "(45, 7, 'type_fuel = 15', 'mileages = 19.0', 'liters = 8001', 'total_annual_dx = 5.62429696288305e-05')\n",
      "(72, 4, 'type_fuel = 15', 'mileages = 25.6', 'liters = 9001', 'total_annual_dx = 6.777024775031464e-05')\n",
      "(72, 5, 'type_fuel = 15', 'mileages = 30.4', 'liters = 10001', 'total_annual_dx = 7.29927007299743e-05')\n",
      "(45, 8, 'type_fuel = 15', 'mileages = 25.6', 'liters = 11001', 'total_annual_dx = 5.544950459046201e-05')\n",
      "(72, 8, 'type_fuel = 15', 'mileages = 19.6', 'liters = 12001', 'total_annual_dx = 3.8330139155073444e-05')\n",
      "(80, 5, 'type_fuel = 15', 'mileages = 26.0', 'liters = 13001', 'total_annual_dx = 0.00013383585877993715')\n",
      "(80, 5, 'type_fuel = 15', 'mileages = 22.2', 'liters = 14001', 'total_annual_dx = 0.00010642096993057372')\n",
      "(80, 1, 'type_fuel = 15', 'mileages = 47.2', 'liters = 15001', 'total_annual_dx = 0.0002106526231582039')\n",
      "(45, 8, 'type_fuel = 15', 'mileages = 19.4', 'liters = 16001', 'total_annual_dx = 2.874820323729994e-05')\n",
      "(80, 1, 'type_fuel = 15', 'mileages = 42.0', 'liters = 17001', 'total_annual_dx = 0.00016587259572964583')\n",
      "(80, 8, 'type_fuel = 15', 'mileages = 33.0', 'liters = 18001', 'total_annual_dx = 0.00012277095716899767')\n",
      "(45, 5, 'type_fuel = 15', 'mileages = 32.4', 'liters = 19001', 'total_annual_dx = 4.0524182937763096e-05')\n",
      "(45, 1, 'type_fuel = 15', 'mileages = 27.0', 'liters = 20001', 'total_annual_dx = 3.19984000799669e-05')\n",
      "(72, 2, 'type_fuel = 15', 'mileages = 39.6', 'liters = 21001', 'total_annual_dx = 4.475977334423734e-05')\n",
      "(80, 7, 'type_fuel = 15', 'mileages = 0.8', 'liters = 22001', 'total_annual_dx = 2.7271487659627032e-06')\n",
      "(72, 6, 'type_fuel = 15', 'mileages = 9.2', 'liters = 23001', 'total_annual_dx = 9.130037824443997e-06')\n",
      "(33, 8, 'type_fuel = 15', 'mileages = 13.4', 'liters = 24001', 'total_annual_dx = 1.3332777800912836e-05')\n",
      "(72, 5, 'type_fuel = 15', 'mileages = 21.6', 'liters = 25001', 'total_annual_dx = 2.0399184032574667e-05')\n",
      "(80, 5, 'type_fuel = 15', 'mileages = 28.2', 'liters = 26001', 'total_annual_dx = 7.2689511941826e-05')\n",
      "(72, 8, 'type_fuel = 15', 'mileages = 47.2', 'liters = 27001', 'total_annual_dx = 4.147994518717756e-05')\n",
      "(33, 3, 'type_fuel = 15', 'mileages = 16.0', 'liters = 28001', 'total_annual_dx = 1.3570943894832314e-05')\n",
      "(45, 4, 'type_fuel = 15', 'mileages = 44.0', 'liters = 29001', 'total_annual_dx = 3.5860832385120275e-05')\n"
     ]
    }
   ],
   "source": [
    "field = \"TransportViewModel.CarUsageList[0].AverageConsumption\"\n",
    "step = 1\n",
    "forms_field_step = []\n",
    "for i in range(1, 30000, 1000):\n",
    "    form = get_random_car()\n",
    "    form[field] = i\n",
    "    forms_field_step.append((form, field, step))\n",
    "\n",
    "rss = []\n",
    "with Pool(32) as pool:\n",
    "    rss = pool.map(get_record, forms_field_step)\n",
    "    pool.close()\n",
    "    pool.join()\n",
    "\n",
    "for record in rss:\n",
    "    print(record)"
   ]
  },
  {
   "cell_type": "code",
   "execution_count": null,
   "metadata": {},
   "outputs": [],
   "source": []
  }
 ],
 "metadata": {
  "kernelspec": {
   "display_name": "Python 3",
   "language": "python",
   "name": "python3"
  },
  "language_info": {
   "codemirror_mode": {
    "name": "ipython",
    "version": 3
   },
   "file_extension": ".py",
   "mimetype": "text/x-python",
   "name": "python",
   "nbconvert_exporter": "python",
   "pygments_lexer": "ipython3",
   "version": "3.7.3"
  }
 },
 "nbformat": 4,
 "nbformat_minor": 4
}
